{
 "cells": [
  {
   "cell_type": "markdown",
   "id": "e9221998",
   "metadata": {},
   "source": [
    "# The range() function"
   ]
  },
  {
   "cell_type": "code",
   "execution_count": 1,
   "id": "9e5541e3",
   "metadata": {},
   "outputs": [],
   "source": [
    "#The range() function allows you to generate a sequence of numbers in the shape of a 'range'. \n",
    "#Meaning, we'll have a start value, an end value and a step value (incremental step)."
   ]
  },
  {
   "cell_type": "code",
   "execution_count": 9,
   "id": "2da28bb2",
   "metadata": {},
   "outputs": [
    {
     "data": {
      "text/plain": [
       "range(0, 5)"
      ]
     },
     "execution_count": 9,
     "metadata": {},
     "output_type": "execute_result"
    }
   ],
   "source": [
    "range(5)\n",
    "range(0,5) #Ranges, by default do not need a step, by default it is assumed '1'\n",
    "#range(0,5,1) Equivalent expression!"
   ]
  },
  {
   "cell_type": "code",
   "execution_count": 41,
   "id": "621b0b34",
   "metadata": {},
   "outputs": [
    {
     "name": "stdout",
     "output_type": "stream",
     "text": [
      "[0, 1, 2, 3, 4]\n",
      "[0, 1, 2, 3, 4]\n"
     ]
    }
   ],
   "source": [
    "print(list(range(5)))\n",
    "print(list(range(0,5)))\n",
    "#print(list(range(0,5,1))) This is an equivalent expression btw."
   ]
  },
  {
   "cell_type": "code",
   "execution_count": 12,
   "id": "b5f7a0e6",
   "metadata": {},
   "outputs": [],
   "source": [
    "# Empty range. The output is EMPTY. Not 0! **Watch out with this!\n",
    "range(0)"
   ]
  },
  {
   "cell_type": "code",
   "execution_count": 13,
   "id": "d5135c21",
   "metadata": {},
   "outputs": [
    {
     "name": "stdout",
     "output_type": "stream",
     "text": [
      "[]\n"
     ]
    }
   ],
   "source": [
    "print(list(range(0)))"
   ]
  },
  {
   "cell_type": "code",
   "execution_count": 42,
   "id": "155732fb",
   "metadata": {},
   "outputs": [
    {
     "name": "stdout",
     "output_type": "stream",
     "text": [
      "[5, 6, 7, 8, 9]\n",
      "[5, 6, 7, 8, 9, 10]\n",
      "[0, 1, 2, 3, 4, 5, 6, 7, 8, 9, 10]\n",
      "[-5, -4, -3, -2, -1, 0, 1, 2, 3, 4, 5, 6, 7, 8, 9, 10]\n"
     ]
    }
   ],
   "source": [
    "#Ascending range (By default the step is 1. range(start,stop,step))\n",
    "range(5,10)\n",
    "print(list(range(5,10)))\n",
    "print(list(range(5,11)))\n",
    "print(list(range(0,11)))\n",
    "print(list(range(-5,11)))"
   ]
  },
  {
   "cell_type": "code",
   "execution_count": 32,
   "id": "0f6866ab",
   "metadata": {},
   "outputs": [
    {
     "name": "stdout",
     "output_type": "stream",
     "text": [
      "[]\n"
     ]
    }
   ],
   "source": [
    "#Descending range ()\n",
    "range(0,-11)\n",
    "print(list(range(0,-11))) # We need to specify a step for this descending range!"
   ]
  },
  {
   "cell_type": "code",
   "execution_count": 33,
   "id": "4a21dfbd",
   "metadata": {},
   "outputs": [
    {
     "name": "stdout",
     "output_type": "stream",
     "text": [
      "[]\n"
     ]
    }
   ],
   "source": [
    "print(list(range(0,-11,1))) #No! The step needs to be negative, as we want to start at 0 and stop at -10!\n",
    "#Thus, the step needs to be -1"
   ]
  },
  {
   "cell_type": "code",
   "execution_count": 1,
   "id": "7276f354",
   "metadata": {},
   "outputs": [
    {
     "name": "stdout",
     "output_type": "stream",
     "text": [
      "[0, -1, -2, -3, -4, -5, -6, -7, -8, -9, -10]\n"
     ]
    }
   ],
   "source": [
    "print(list(range(0,-11,-1)))"
   ]
  },
  {
   "cell_type": "markdown",
   "id": "080bee71",
   "metadata": {},
   "source": [
    "# Printing patterns with the range() function"
   ]
  },
  {
   "cell_type": "code",
   "execution_count": null,
   "id": "69786ab3",
   "metadata": {},
   "outputs": [],
   "source": [
    "#By default Python print() function ends with a new line. Meaning, everytime we print() it will go to the next line\n",
    "# defined by the iterator."
   ]
  },
  {
   "cell_type": "code",
   "execution_count": null,
   "id": "df5dd6c4",
   "metadata": {},
   "outputs": [],
   "source": [
    "#Example of printing asterisks in a new line."
   ]
  },
  {
   "cell_type": "code",
   "execution_count": 9,
   "id": "94aff64c",
   "metadata": {},
   "outputs": [
    {
     "name": "stdout",
     "output_type": "stream",
     "text": [
      "*\n",
      "*\n",
      "*\n",
      "*\n",
      "*\n"
     ]
    }
   ],
   "source": [
    "n = 5\n",
    "for j in range(n):\n",
    "    print(\"*\")"
   ]
  },
  {
   "cell_type": "code",
   "execution_count": 4,
   "id": "473ae9fd",
   "metadata": {},
   "outputs": [],
   "source": [
    "#If we want to print asteriks one next to the other, we need to tell the print() function to add a space at the end."
   ]
  },
  {
   "cell_type": "code",
   "execution_count": 12,
   "id": "c7afde82",
   "metadata": {},
   "outputs": [
    {
     "name": "stdout",
     "output_type": "stream",
     "text": [
      "* * * * * "
     ]
    }
   ],
   "source": [
    "n = 5\n",
    "for j in range(n):\n",
    "    print(\"*\", end=\" \")"
   ]
  },
  {
   "cell_type": "code",
   "execution_count": 28,
   "id": "ffce4ed4",
   "metadata": {
    "scrolled": false
   },
   "outputs": [
    {
     "name": "stdout",
     "output_type": "stream",
     "text": [
      "* * * * * \n",
      "* * * * * \n",
      "* * * * * \n",
      "* * * * * \n",
      "* * * * * \n"
     ]
    }
   ],
   "source": [
    "n = 5\n",
    "for i in range (n): # we set the rows number in here. i0,i1,i2,i3,i4 (5 rows)\n",
    "    for j in range(n): #We enter the inner loop that controls the columns inside each row. i0 has j0,j1,j2,j3,j4 and so on!\n",
    "        print(\"*\", end=\" \")\n",
    "    print()\n",
    "    \n",
    "    #for i in range: Takes care of the number of rows.\n",
    "    #1st row: i0 ; 2nd row: i1; 3rd row: i2; 4th row: i3, 5th row: i4\n",
    "    #for j in range: Takes care of the number of colums inside each row. Thus, each row (i0-i4) will have j0,j1,j2,j3,j4.\n",
    "    # https://www.youtube.com/watch?v=fX64q6sYom0\n",
    "    \n",
    "    "
   ]
  },
  {
   "cell_type": "markdown",
   "id": "6e353320",
   "metadata": {},
   "source": [
    "## 1. Increasing Triangle Pattern (External loop range = n, inner loop = i+1 "
   ]
  },
  {
   "cell_type": "code",
   "execution_count": 119,
   "id": "97b7371d",
   "metadata": {},
   "outputs": [
    {
     "name": "stdout",
     "output_type": "stream",
     "text": [
      "* \n",
      "* * \n",
      "* * * \n",
      "* * * * \n",
      "* * * * * \n"
     ]
    }
   ],
   "source": [
    "n=5\n",
    "for i in range(n):\n",
    "    for j in range(i+1):\n",
    "        print(\"*\", end=\" \")\n",
    "    print()"
   ]
  },
  {
   "cell_type": "markdown",
   "id": "8de47cc1",
   "metadata": {},
   "source": [
    "## 2. Decreasing Triangle Pattern (External loop range = n, inner loop = i,n or n-i"
   ]
  },
  {
   "cell_type": "code",
   "execution_count": 121,
   "id": "4e3bcf61",
   "metadata": {},
   "outputs": [
    {
     "name": "stdout",
     "output_type": "stream",
     "text": [
      "* * * * * \n",
      "* * * * \n",
      "* * * \n",
      "* * \n",
      "* \n"
     ]
    }
   ],
   "source": [
    "#External loop = range(n)\n",
    "#Inner loop = range(n-1)\n",
    "\n",
    "n = 5\n",
    "\n",
    "for i in range(n):\n",
    "    for j in range(i,n): # n-i ??\n",
    "        print(\"*\", end=\" \")\n",
    "    print()"
   ]
  },
  {
   "cell_type": "markdown",
   "id": "e6b67e19",
   "metadata": {},
   "source": [
    "## Right sided triangle"
   ]
  },
  {
   "cell_type": "code",
   "execution_count": 129,
   "id": "f02c23a5",
   "metadata": {},
   "outputs": [
    {
     "name": "stdout",
     "output_type": "stream",
     "text": [
      "          * \n",
      "        * * \n",
      "      * * * \n",
      "    * * * * \n",
      "  * * * * * \n"
     ]
    }
   ],
   "source": [
    "n = 5\n",
    "\n",
    "for i in range(n):\n",
    "    for j in range(i,n): #This 2 nested loops work one after the other!!!\n",
    "        print(\" \", end=\" \")\n",
    "    for j in range(i+1):\n",
    "        print(\"*\", end=\" \")\n",
    "    print()"
   ]
  },
  {
   "cell_type": "code",
   "execution_count": 126,
   "id": "899738f3",
   "metadata": {},
   "outputs": [
    {
     "name": "stdout",
     "output_type": "stream",
     "text": [
      "  * * * * * \n",
      "    * * * * \n",
      "      * * * \n",
      "        * * \n",
      "          * \n"
     ]
    }
   ],
   "source": [
    "n = 5\n",
    "\n",
    "for i in range (n):\n",
    "    for j in range (i+1):\n",
    "        print(\" \", end=\" \")\n",
    "    for j in range (i,n): # n-i ???\n",
    "        print(\"*\", end=\" \")\n",
    "    print()"
   ]
  },
  {
   "cell_type": "markdown",
   "id": "29be5469",
   "metadata": {},
   "source": [
    "# Left sided triangle"
   ]
  },
  {
   "cell_type": "code",
   "execution_count": 122,
   "id": "ebc77e5b",
   "metadata": {},
   "outputs": [
    {
     "name": "stdout",
     "output_type": "stream",
     "text": [
      "* \n",
      "* * \n",
      "* * * \n",
      "* * * * \n",
      "* * * * * \n"
     ]
    }
   ],
   "source": [
    "n = 5\n",
    "\n",
    "for i in range(n):\n",
    "    for j in range(n,i):\n",
    "        print(\" \", end=\" \")\n",
    "    for j in range (i+1):\n",
    "        print(\"*\", end=\" \")\n",
    "    print()"
   ]
  },
  {
   "cell_type": "code",
   "execution_count": 131,
   "id": "e7b125bf",
   "metadata": {},
   "outputs": [
    {
     "name": "stdout",
     "output_type": "stream",
     "text": [
      "  * * * * * \n",
      "    * * * * \n",
      "      * * * \n",
      "        * * \n",
      "          * \n"
     ]
    }
   ],
   "source": [
    "n = 5\n",
    "\n",
    "for i in range (n):\n",
    "    for j in range (i+1):\n",
    "        print(\" \", end=\" \")\n",
    "    for j in range (i,n):\n",
    "        print(\"*\", end=\" \")\n",
    "    print()"
   ]
  },
  {
   "cell_type": "code",
   "execution_count": 177,
   "id": "b1161140",
   "metadata": {},
   "outputs": [
    {
     "name": "stdout",
     "output_type": "stream",
     "text": [
      "* * * * *   \n",
      "* * * *     \n",
      "* * *       \n",
      "* *         \n",
      "*           \n"
     ]
    }
   ],
   "source": [
    "#External loop = range(n)\n",
    "#Inner loop = range(i,n) i.e: 0-5, 1-5, 2-5, 3-5 = 2 stars are printed , 4-5 = 1 star is printed.\n",
    "n = 5\n",
    "\n",
    "for i in range(n):\n",
    "    for j in range(i,n):\n",
    "        print(\"*\", end =\" \")\n",
    "    for j in range(i+1):\n",
    "        print(\" \", end = \" \")\n",
    "    print()"
   ]
  },
  {
   "cell_type": "markdown",
   "id": "9787bc39",
   "metadata": {},
   "source": [
    "## Hill pattern"
   ]
  },
  {
   "cell_type": "code",
   "execution_count": 141,
   "id": "59d41205",
   "metadata": {},
   "outputs": [
    {
     "name": "stdout",
     "output_type": "stream",
     "text": [
      "          * \n",
      "        * * * \n",
      "      * * * * * \n",
      "    * * * * * * * \n",
      "  * * * * * * * * * \n"
     ]
    }
   ],
   "source": [
    "n = 5\n",
    "\n",
    "for i in range(n):\n",
    "    for j in range (i,n):\n",
    "        print(\" \", end=\" \")\n",
    "    for j in range (i):\n",
    "            print(\"*\", end=\" \")\n",
    "    for j in range (i+1):\n",
    "                print(\"*\", end=\" \")\n",
    "    print()"
   ]
  },
  {
   "cell_type": "markdown",
   "id": "aaff7a12",
   "metadata": {},
   "source": [
    "## Decreasing Hill Pattern"
   ]
  },
  {
   "cell_type": "code",
   "execution_count": 175,
   "id": "8fbf22b5",
   "metadata": {},
   "outputs": [
    {
     "name": "stdout",
     "output_type": "stream",
     "text": [
      "  * * * * * * * * * \n",
      "    * * * * * * * \n",
      "      * * * * * \n",
      "        * * * \n",
      "          * \n"
     ]
    }
   ],
   "source": [
    "n = 5\n",
    "\n",
    "for i in range(n):\n",
    "    for j in range (i+1):\n",
    "        print(\" \", end=\" \")\n",
    "    for j in range (i,n-1):\n",
    "            print(\"*\", end=\" \")\n",
    "    for j in range (i,n):\n",
    "                print(\"*\", end=\" \")\n",
    "    print()"
   ]
  },
  {
   "cell_type": "markdown",
   "id": "3b42e3e6",
   "metadata": {},
   "source": [
    "# Diamond Pattern (Double inverted hill pattern)\n"
   ]
  },
  {
   "cell_type": "code",
   "execution_count": 205,
   "id": "d71bf709",
   "metadata": {},
   "outputs": [
    {
     "name": "stdout",
     "output_type": "stream",
     "text": [
      "          * \n",
      "        * * * \n",
      "      * * * * * \n",
      "    * * * * * * * \n",
      "  * * * * * * * * * \n",
      "    * * * * * * * \n",
      "      * * * * * \n",
      "        * * * \n",
      "          * \n"
     ]
    }
   ],
   "source": [
    "n = 5\n",
    "\n",
    "for i in range (n-1):\n",
    "        for j in range (i,n) :\n",
    "            print(\" \", end=\" \")\n",
    "        for j in range (i):\n",
    "            print(\"*\", end=\" \")\n",
    "        for j in range (i+1):\n",
    "            print(\"*\", end=\" \")\n",
    "        print()\n",
    "for i in range (n):\n",
    "        for j in range (i+1):\n",
    "            print(\" \", end=\" \")\n",
    "        for j in range (i,n-1):\n",
    "            print(\"*\", end=\" \")\n",
    "        for j in range (i,n):\n",
    "            print(\"*\", end=\" \") \n",
    "        print()"
   ]
  },
  {
   "cell_type": "code",
   "execution_count": 185,
   "id": "68c9069e",
   "metadata": {},
   "outputs": [
    {
     "name": "stdout",
     "output_type": "stream",
     "text": [
      "[0, 1, 2, 3, 4]\n",
      "[0, 1, 2, 3, 4]\n",
      "[0, 1, 2, 3, 4]\n"
     ]
    }
   ],
   "source": [
    "#Equivalences: The following expressions all have the same output:\n",
    "range(5)\n",
    "range(0,5)\n",
    "range(0,5,1)\n",
    "print(list(range(5)))\n",
    "print(list(range(0,5)))\n",
    "print(list(range(0,5,1)))"
   ]
  },
  {
   "cell_type": "code",
   "execution_count": 37,
   "id": "398be5d8",
   "metadata": {},
   "outputs": [
    {
     "name": "stdout",
     "output_type": "stream",
     "text": [
      "[0, 1]\n"
     ]
    }
   ],
   "source": [
    "#Empty sequence\n",
    "range(2) #This expressions basically means, start at 0 and get me to (2-1)= 1, in 1 unit increments. Thus:\n",
    "print(list(range(2)))"
   ]
  },
  {
   "cell_type": "code",
   "execution_count": 40,
   "id": "64dda128",
   "metadata": {},
   "outputs": [
    {
     "name": "stdout",
     "output_type": "stream",
     "text": [
      "[0]\n",
      "[]\n"
     ]
    }
   ],
   "source": [
    "#So, if we want to output range(1) and range(0), it is quite clear that range(0) will output a void sequence.\n",
    "# range(0) has a VOID SEQUENCE output, not ZERO!\n",
    "range(1)\n",
    "range(0)\n",
    "print(list(range(1)))\n",
    "print(list(range(0)))"
   ]
  },
  {
   "cell_type": "code",
   "execution_count": null,
   "id": "bb621f36",
   "metadata": {},
   "outputs": [],
   "source": []
  }
 ],
 "metadata": {
  "kernelspec": {
   "display_name": "Python 3 (ipykernel)",
   "language": "python",
   "name": "python3"
  },
  "language_info": {
   "codemirror_mode": {
    "name": "ipython",
    "version": 3
   },
   "file_extension": ".py",
   "mimetype": "text/x-python",
   "name": "python",
   "nbconvert_exporter": "python",
   "pygments_lexer": "ipython3",
   "version": "3.9.7"
  }
 },
 "nbformat": 4,
 "nbformat_minor": 5
}
